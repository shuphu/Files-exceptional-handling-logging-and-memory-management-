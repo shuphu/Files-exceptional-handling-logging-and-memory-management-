{
  "nbformat": 4,
  "nbformat_minor": 0,
  "metadata": {
    "colab": {
      "private_outputs": true,
      "provenance": []
    },
    "kernelspec": {
      "name": "python3",
      "display_name": "Python 3"
    },
    "language_info": {
      "name": "python"
    }
  },
  "cells": [
    {
      "cell_type": "code",
      "execution_count": null,
      "metadata": {
        "id": "Tkv3IS-atd84"
      },
      "outputs": [],
      "source": [
        "#Q1.What is the difference between interpreted and compiled languages?\n",
        "\"\"\"Ans: Compiled Languages:\n",
        "1.The source code is translated into machine code by a compiler before execution.\n",
        "2.The compiled program runs directly on the hardware without needing further translation.\n",
        "3.Examples: C, C++, Rust, Go\n",
        "Interpreted Languages:\n",
        "1.The source code is executed line-by-line by an interpreter at runtime.\n",
        "2.Generally slow language because it translated line by line.\n",
        "3.Examples: Python, JavaScript, Ruby, PHP\"\"\"\n",
        "\n",
        "#Q2.What is exception handling in Python?\n",
        "\"\"\"Ans: Exception handling is a mechanism that deal with runtime error for preventing from crashing program.\n",
        "\n",
        "ZeroDivisionError – Dividing by zero.\n",
        "TypeError – Incompatible data type operations.\n",
        "ValueError – Invalid value for a function.\n",
        "FileNotFoundError – Trying to open a non-existent file.\"\"\"\n",
        "\n",
        "#Q3.What is the purpose of the finally block in exception handling?\n",
        "\"\"\"Ans:The finally block in Python is used to execute code no matter what, whether an exception occurs or not. It is typically used for cleanup tasks, such as closing files, releasing resources, or disconnecting from a database.\"\"\"\n",
        "\n",
        "#Q4.What is logging in Python?\n",
        "\"\"\"Ans:Logging in Python is a way to track events that happen during the execution of a program. It helps with debugging, monitoring, and storing error messages in a structured manner.\"\"\"\n",
        "\n",
        "#Q5.What is the significance of the __del__ method in Python?\n",
        "\"\"\"Ans:__del__ Method in Python\n",
        "The __del__ method in Python is a destructor, which is automatically called when an object is about to be destroyed (i.e., when it is no longer referenced). It is useful for cleaning up resources like closing files, network connections, or releasing memory.\"\"\"\n",
        "\n",
        "#Q6.What is the difference between import and from ... import in Python?\n",
        "\"\"\"Ans:Import:The import statement imports the entire module. You must use the module name when accessing its functions or variables.\n",
        "import math\n",
        "print(math.sqrt(25))\n",
        "\n",
        "Using from ... import:\n",
        "The from ... import statement imports specific functions or variables from a module, allowing you to use them directly without the module prefix.\n",
        "\n",
        "from math import sqrt\n",
        "print(sqrt(25))\"\"\""
      ]
    },
    {
      "cell_type": "code",
      "source": [
        "#Q7.F How can you handle multiple exceptions in Python?\n",
        "\"\"\"Ans:\n",
        "1. Using Multiple except Blocks\n",
        "try:\n",
        "  num = int(input(\"Enter a number:\"))\n",
        "  result = 10/num\n",
        "  print(result)\n",
        "except ValueError:\n",
        "  print(\"invalid input ! Enter a vslid number\")\n",
        "except ZeroDivisionError:\n",
        "  print(\"Cannot divide by zero\")\"\"\""
      ],
      "metadata": {
        "id": "0ZpXuk3u6geh"
      },
      "execution_count": null,
      "outputs": []
    },
    {
      "cell_type": "code",
      "source": [
        "#Q8.What is the purpose of the with statement when handling files in Python?\n",
        "\"\"\"Ans:The with statement in Python is used for handling files efficiently. It ensures that the file is properly closed after its block of code executes, even if an error occurs.\n",
        "with open(\"example.txt\", \"r\") as file:\n",
        "    content = file.read()\n",
        "    print(content)\"\"\""
      ],
      "metadata": {
        "id": "WYJnpDgK8wq0"
      },
      "execution_count": null,
      "outputs": []
    },
    {
      "cell_type": "code",
      "source": [
        "#Q9.What is the difference between multithreading and multiprocessing?\n",
        "\"\"\"Ans: 1.Multithreading:\n",
        "1.Using multiple thread with in single process.\n",
        "2.Best for I/O-bound tasks (e.g., file operations, web scraping, network requests).\n",
        "3.Threads share memory, so communication is easy.\n",
        "2. Multiprocessing:\n",
        "1.Uses multiple processes\n",
        "2.Best for CPU-bound tasks (e.g., data processing, machine learning)\n",
        "3.\"\"\""
      ],
      "metadata": {
        "id": "8NSimRcC_d8z"
      },
      "execution_count": null,
      "outputs": []
    },
    {
      "cell_type": "code",
      "source": [
        "#Q10.What are the advantages of using logging in a program?\n",
        "\"\"\"Ans:Logging is an essential tool for debugging, monitoring, and maintaining software.\n",
        "1. Helps with Debugging & Troubleshooting\n",
        "2. Provides Different Logging Levels\n",
        "3. Saves Logs to a File for Future Analysis\n",
        "4. Improves Performance in Large Applications\n",
        "5. Supports Multi-Threading and Multi-Processing\n",
        "6. Works Well in Large-Scale Applications\"\"\""
      ],
      "metadata": {
        "id": "j2wSmrN2AyyM"
      },
      "execution_count": null,
      "outputs": []
    },
    {
      "cell_type": "code",
      "source": [
        "#Q11.What is memory management in Python?\n",
        "\"\"\"Ans:Memory Management in Python:\n",
        "Memory management in Python is the process of allocating, tracking, and freeing up memory used by variables, objects, and data structures. Python has automatic memory management, meaning developers don’t need to manually allocate or deallocate memory.\"\"\""
      ],
      "metadata": {
        "id": "0KwRVVWIgra4"
      },
      "execution_count": null,
      "outputs": []
    },
    {
      "cell_type": "code",
      "source": [
        "#Q12.What are the basic steps involved in exception handling in Python?\n",
        "\"\"\"Ans:Exception handling in Python ensures that a program doesn’t crash when unexpected errors occur.\n",
        "steps:\n",
        "1.Use a try Block to Write Risky Code\n",
        "try:\n",
        "  num = int(input(\"Enter a number: \"))\n",
        "  result = 10/num\n",
        "  print(result)\n",
        "\n",
        "2.Use except to Catch Exceptions\n",
        "try:\n",
        "    num = int(input(\"Enter a number: \"))\n",
        "    result = 10 / num\n",
        "except ValueError:\n",
        "    print(\"Invalid input! Please enter a valid number.\")\n",
        "except ZeroDivisionError:\n",
        "    print(\"Cannot divide by zero!\")\n",
        "\n",
        "3.We can use multiple except blocks to handle different types of exceptions.\n",
        "4.Use else to Run Code if No Exceptions Occur\n",
        "try:\n",
        "    num = int(input(\"Enter a number: \"))\n",
        "    result = 10 / num\n",
        "except ValueError:\n",
        "    print(\"Invalid input!\")\n",
        "except ZeroDivisionError:\n",
        "    print(\"Cannot divide by zero!\")\n",
        "else:\n",
        "    print(f\"Result: {result}\")  # Runs only if no exception occurs\"\"\""
      ],
      "metadata": {
        "id": "U5894ITlhdlQ"
      },
      "execution_count": null,
      "outputs": []
    },
    {
      "cell_type": "code",
      "source": [
        "#Q13.Why is memory management important in Python?\n",
        "\"\"\"Ans:Memory management in Python is crucial for performance, efficiency, and preventing memory leaks. Python automatically manages memory using reference counting and garbage collection, but developers still need to be mindful of memory usage.\n",
        "Importance of memory managment:\n",
        "1. Prevents Memory Leaks\n",
        "2. Optimizes Performance\n",
        "3. Supports Scalability\n",
        "4. Avoids Crashes and Performance Issues\n",
        "5. Prevents Excessive Garbage Collection\"\"\""
      ],
      "metadata": {
        "id": "WLu2m16PiwpR"
      },
      "execution_count": null,
      "outputs": []
    },
    {
      "cell_type": "code",
      "source": [
        "#Q14.What is the role of try and except in exception handling?\n",
        "\"\"\"Ans:Exception handling in Python ensures that a program doesn’t crash when unexpected errors occur.\n",
        "steps:\n",
        "1.Use a try Block to Write Risky Code\n",
        "try:\n",
        "  num = int(input(\"Enter a number: \"))\n",
        "  result = 10/num\n",
        "  print(result)\n",
        "\n",
        "2.Use except to Catch Exceptions\n",
        "try:\n",
        "    num = int(input(\"Enter a number: \"))\n",
        "    result = 10 / num\n",
        "except ValueError:\n",
        "    print(\"Invalid input! Please enter a valid number.\")\n",
        "except ZeroDivisionError:\n",
        "    print(\"Cannot divide by zero!\")\n",
        "\n",
        "3.We can use multiple except blocks to handle different types of exceptions.\n",
        "4.Use else to Run Code if No Exceptions Occur\n",
        "try:\n",
        "    num = int(input(\"Enter a number: \"))\n",
        "    result = 10 / num\n",
        "except ValueError:\n",
        "    print(\"Invalid input!\")\n",
        "except ZeroDivisionError:\n",
        "    print(\"Cannot divide by zero!\")\n",
        "else:\n",
        "    print(f\"Result: {result}\")  # Runs only if no exception occurs\"\"\"\n"
      ],
      "metadata": {
        "id": "aiSUKGlWjfHB"
      },
      "execution_count": null,
      "outputs": []
    },
    {
      "cell_type": "code",
      "source": [
        "#Q15. How does Python's garbage collection system work?\n",
        "\"\"\"Ans:Python’s garbage collection (GC) system automatically manages memory by removing unused objects, preventing memory leaks, and improving performance.\n",
        "Garages collection in python:\n",
        "1.Reference Counting (Primary Mechanism)\n",
        "2.Generational Garbage Collection (Secondary Mechanism)\n",
        "Python uses generational garbage collection to handle objects that remain in memory for a long time.\n",
        "3. Handling Circular References\n",
        "4.Disabling or Tuning Garbage Collection\"\"\""
      ],
      "metadata": {
        "id": "yEHUyjhQj4KR"
      },
      "execution_count": null,
      "outputs": []
    },
    {
      "cell_type": "code",
      "source": [
        "#Q16.What is the purpose of the else block in exception handling?\n",
        "\"\"\"Ans:In Python, the else block in exception handling is used to run code that should execute only if no exception occurs in the try block.\n",
        "try:\n",
        "    num = int(input(\"Enter a number: \"))  # Might raise ValueError\n",
        "    result = 10 / num  # Might raise ZeroDivisionError\n",
        "except ValueError:\n",
        "    print(\"Invalid input! Please enter a number.\")\n",
        "except ZeroDivisionError:\n",
        "    print(\"Cannot divide by zero!\")\n",
        "else:\n",
        "    print(f\"Result: {result}\")  # Runs only if no error occurs\"\"\""
      ],
      "metadata": {
        "id": "vmIcvnBFl-Zp"
      },
      "execution_count": null,
      "outputs": []
    },
    {
      "cell_type": "code",
      "source": [
        "#Q17.What are the common logging levels in Python?\n",
        "\"\"\"Ans:1.DEBUG\t-\tDetailed debugging information\n",
        "2.INFO\t-\tGeneral information about program execution\n",
        "3.WARNING\t-\tSomething unexpected happened, but the program can continue\n",
        "4.ERROR\t-\tA serious issue occurred, but the program is still running\n",
        "5.CRITICAL\t-\tA severe error that forces the program to stop\"\"\"\n"
      ],
      "metadata": {
        "id": "a5s363zKmnCK"
      },
      "execution_count": null,
      "outputs": []
    },
    {
      "cell_type": "code",
      "source": [
        "#Q18. What is the difference between os.fork() and multiprocessing in Python?\n",
        "\"\"\"Ans:Both os.fork() and multiprocessing are used for creating new processes in Python, but they differ in their approach and use cases.\n",
        "os.fork()\n",
        "Mechanism: os.fork() is a system call that creates a new process by duplicating the existing process. The new process (child) is an almost identical copy of the parent process, inheriting its memory space, file descriptors, and other resources.\n",
        "multiprocessing:\n",
        "Mechanism: The multiprocessing module provides a higher-level interface for creating and managing processes. It uses different mechanisms depending on the operating system and the chosen start method (e.g., spawn, fork, forkserver).\"\"\""
      ],
      "metadata": {
        "id": "OQU7ri0DnRuB"
      },
      "execution_count": null,
      "outputs": []
    },
    {
      "cell_type": "code",
      "source": [
        "#Q19.What is the importance of closing a file in Python?\n",
        "\"\"\"Ans:Closing a file in Python using .close() or a with statement is crucial for efficient resource management and data integrity.\"\"\""
      ],
      "metadata": {
        "id": "2dhzlbLPoS97"
      },
      "execution_count": null,
      "outputs": []
    },
    {
      "cell_type": "code",
      "source": [
        "#Q20.What is the difference between file.read() and file.readline() in Python?\n",
        "\"\"\"Ans:file.read():\n",
        "Functionality: Reads the entire content of the file as a single string.\n",
        "file.readline():\n",
        "Functionality: Reads a single line from the file, including the newline character (\\n) at the end.\"\"\""
      ],
      "metadata": {
        "id": "2G8OFI-Uo_hp"
      },
      "execution_count": null,
      "outputs": []
    },
    {
      "cell_type": "code",
      "source": [
        "#Q21.What is the logging module in Python used for?\n",
        "\"\"\"Ans:The logging module in Python is used for tracking events that happen while a program runs. It allows developers to record debug messages, warnings, errors, and other types of logs to help with debugging and monitoring applications.\n",
        "Key Features of the logging Module:\n",
        "Different Logging Levels :\n",
        "1.DEBUG: Detailed information for diagnosing problems.\n",
        "2.INFO: General information about program execution.\n",
        "3.WARNING: Indication of potential problems.\n",
        "4.ERROR: Reports an error.\n",
        "5.CRITICAL: Reports a serious failure.\n",
        "\n",
        "Flexible Output Options – Logs can be written to:\n",
        "\n",
        "1.Console (stdout or stderr).\n",
        "2.Files.\n",
        "3.Remote servers.\"\"\"\n"
      ],
      "metadata": {
        "id": "fEKovF_6p0JC"
      },
      "execution_count": null,
      "outputs": []
    },
    {
      "cell_type": "code",
      "source": [
        "#Q22.What is the os module in Python used for in file handling?\n",
        "\"\"\"Ans:\n",
        "The os module in Python provides functions for interacting with the operating system, making it particularly useful for file handling. It allows you to create, delete, move, rename, and check files and directories.\n",
        "Key File Handling Features of the os Module:\n",
        "1.Checking File Existence\n",
        "2.Creating a Directory\n",
        "3.Creating Multiple Directories (Nested)\n",
        "4.Listing Files in a Directory\n",
        "5.Renaming a File\n",
        "6.Deleting a File\"\"\""
      ],
      "metadata": {
        "id": "yj6S72J4D8iQ"
      },
      "execution_count": null,
      "outputs": []
    },
    {
      "cell_type": "code",
      "source": [
        "#Q23.What are the challenges associated with memory management in Python?\n",
        "\"\"\"Ans:Memory management in Python is largely automated, but there are several challenges developers may encounter:\n",
        "1. Garbage Collection Overhead\n",
        "2. Reference Cycles\n",
        "3. Memory Leaks\n",
        "4. High Memory Usage of Lists & Dicts\n",
        "5. Memory Fragmentation\n",
        "6. Large Objects Persisting in Memory\n",
        "7. Inefficient String Handling\n",
        "8. Lack of Explicit Memory Deallocation\"\"\""
      ],
      "metadata": {
        "id": "tQSwCq0EEuRv"
      },
      "execution_count": null,
      "outputs": []
    },
    {
      "cell_type": "code",
      "source": [
        "#24.How do you raise an exception manually in Python?\n",
        "\"\"\"Ans:In Python, you can manually raise an exception using the raise keyword. This is useful for enforcing conditions, handling errors, or debugging.\n",
        "x = -5\n",
        "if x < 0:\n",
        "    raise ValueError(\"x cannot be negative!\")\n",
        "\"\"\""
      ],
      "metadata": {
        "id": "GpJoNA_XFY0v"
      },
      "execution_count": null,
      "outputs": []
    },
    {
      "cell_type": "code",
      "source": [
        "#Q25.Why is it important to use multithreading in certain applications?\n",
        "\"\"\"Ans:Improved Performance and Responsiveness\n",
        "\n",
        "1.Concurrency: Multithreading enables the execution of multiple tasks concurrently within a single process. This is particularly beneficial for I/O-bound operations (like reading files or network requests), where threads can work on different tasks while waiting for I/O operations to complete, maximizing resource utilization.\n",
        "2.Responsiveness: In applications with user interfaces, multithreading can prevent the UI from freezing while a long-running task is performed in the background. By delegating the task to a separate thread, the UI thread remains responsive to user input.\n",
        "3.Resource Sharing and Efficiency\n",
        "\n",
        "4.Shared Memory: Threads within a process share the same memory space, allowing for efficient communication and data exchange between threads.\n",
        "5.Reduced Overhead: Creating and managing threads is generally less resource-intensive compared to creating and managing separate processes.\n",
        "6.Scalability\n",
        "Adapting to Multiple Cores: Modern processors often have multiple cores. Multithreading allows applications to take advantage of these cores by distributing tasks across different threads, leading to potential performance improvements.\"\"\""
      ],
      "metadata": {
        "id": "8Jlsg0Z7FsQu"
      },
      "execution_count": null,
      "outputs": []
    },
    {
      "cell_type": "markdown",
      "source": [
        "Practical Question\n"
      ],
      "metadata": {
        "id": "wl_FdlY-GWwW"
      }
    },
    {
      "cell_type": "code",
      "source": [
        "#Q1.How can you open a file for writing in Python and write a string to it?\n",
        "#Ans:\n",
        "with open(\"start.txt\",\"w\") as file:\n",
        "  file.write(\"this is first file\")\n",
        "#Output: open file, this is first file"
      ],
      "metadata": {
        "id": "YPfxzAQEGaan"
      },
      "execution_count": null,
      "outputs": []
    },
    {
      "cell_type": "code",
      "source": [
        "#Q2. Write a Python program to read the contents of a file and print each line?\n",
        "#Ans:\n",
        "with open(\"start.txt\",\"r\") as file:\n",
        "  lines = file.readlines()\n",
        "  for line in lines:\n",
        "    print(line)\n",
        "#output:this is first file"
      ],
      "metadata": {
        "id": "xzcMszVcH1M4"
      },
      "execution_count": null,
      "outputs": []
    },
    {
      "cell_type": "code",
      "source": [
        "#Q3.How would you handle a case where the file doesn't exist while trying to open it for reading?\n",
        "#Ans:\n",
        "try:\n",
        "    with open(\"example.txt\", \"r\") as file:\n",
        "        for line in file:\n",
        "            print(line.strip())\n",
        "except FileNotFoundError:\n",
        "    print(\"Error: The file does not exist. Please check the filename and try again.\")\n",
        "#output: Error: The file does not exist. Please check the filename and try again."
      ],
      "metadata": {
        "id": "kdCx5SI-JNgX"
      },
      "execution_count": null,
      "outputs": []
    },
    {
      "cell_type": "code",
      "source": [
        "#Q4.Write a Python script that reads from one file and writes its content to another file?\n",
        "#Ans:\n",
        "with open(\"start.txt\", \"r\") as source, open(\"destination.txt\", \"w\") as destination:\n",
        "    for line in source:\n",
        "        destination.write(line)\n",
        "\n",
        "print(\"File copied successfully!\")\n",
        "#Output:File copied successfully!"
      ],
      "metadata": {
        "id": "o7RxLovfJ2aY"
      },
      "execution_count": null,
      "outputs": []
    },
    {
      "cell_type": "code",
      "source": [
        "#Q5.How would you catch and handle division by zero error in Python?\n",
        "#Ans:\n",
        "try:\n",
        "    result = 10 / 0\n",
        "except ZeroDivisionError:\n",
        "    print(\"Error: Division by zero is not allowed!\")\n",
        "#output:Error: Division by zero is not allowed!"
      ],
      "metadata": {
        "id": "xQPohNEmKe34"
      },
      "execution_count": null,
      "outputs": []
    },
    {
      "cell_type": "code",
      "source": [
        "#Q6.Write a Python program that logs an error message to a log file when a division by zero exception occurs?\n",
        "#Ans:\n",
        "import logging\n",
        "\n",
        "\n",
        "logging.basicConfig(filename=\"error.log\", level=logging.ERROR,\n",
        "                    format=\"%(asctime)s - %(levelname)s - %(message)s\")\n",
        "\n",
        "def safe_divide(a, b):\n",
        "    try:\n",
        "        return a / b\n",
        "    except ZeroDivisionError:\n",
        "        logging.error(\"Attempted to divide by zero (a=%d, b=%d)\", a, b)\n",
        "        return \"Error: Division by zero is not allowed!\"\n",
        "\n",
        "\n",
        "print(safe_divide(10, 2))\n",
        "print(safe_divide(10, 0))\n",
        "\"\"\"ERROR:root:Attempted to divide by zero (a=10, b=0)\n",
        "5.0\n",
        "Error: Division by zero is not allowed!\"\"\"\n"
      ],
      "metadata": {
        "id": "WW24vAlNKxbX"
      },
      "execution_count": null,
      "outputs": []
    },
    {
      "cell_type": "code",
      "source": [
        "#Q7.How do you log information at different levels (INFO, ERROR, WARNING) in Python using the logging module?\n",
        "#Ans:\n",
        "import logging\n",
        "\n",
        "\n",
        "logging.basicConfig(filename=\"app.log\", level=logging.DEBUG,\n",
        "                    format=\"%(asctime)s - %(levelname)s - %(message)s\")\n",
        "\n",
        "\n",
        "logging.debug(\"This is a DEBUG message: Used for debugging.\")\n",
        "logging.info(\"This is an INFO message: General info about execution.\")\n",
        "logging.warning(\"This is a WARNING message: Something might be wrong.\")\n",
        "logging.error(\"This is an ERROR message: An error has occurred.\")\n",
        "logging.critical(\"This is a CRITICAL message: Severe error that may stop the program.\")\n",
        "\n",
        "\"\"\"WARNING:root:This is a WARNING message: Something might be wrong.\n",
        "ERROR:root:This is an ERROR message: An error has occurred.\n",
        "CRITICAL:root:This is a CRITICAL message: Severe error that may stop the program.\"\"\""
      ],
      "metadata": {
        "id": "GEEfEhigLVSB"
      },
      "execution_count": null,
      "outputs": []
    },
    {
      "cell_type": "code",
      "source": [
        "#Q8.Write a program to handle a file opening error using exception handling?\n",
        "#Ans:\n",
        "def read_file(filename):\n",
        "    try:\n",
        "        with open(filename, \"r\") as file:\n",
        "            content = file.read()\n",
        "            print(\"File content:\\n\", content)\n",
        "    except FileNotFoundError:\n",
        "        print(f\"Error: The file '{filename}' does not exist.\")\n",
        "    except PermissionError:\n",
        "        print(f\"Error: Permission denied while accessing '{filename}'.\")\n",
        "    except Exception as e:\n",
        "        print(f\"An unexpected error occurred: {e}\")\n",
        "\n",
        "\n",
        "read_file(\"non_existent_file.txt\")  # This will trigger an error\n",
        "#Output:Error: The file 'non_existent_file.txt' does not exist."
      ],
      "metadata": {
        "id": "XMN1qJxlLuxR"
      },
      "execution_count": null,
      "outputs": []
    },
    {
      "cell_type": "code",
      "source": [
        "#Q9.How can you read a file line by line and store its content in a list in Python?\n",
        "#Ans:\n",
        "with open(\"start.txt\", \"r\") as file:\n",
        "    lines = file.readlines()\n",
        "\n",
        "\n",
        "lines = [line.strip() for line in lines]\n",
        "\n",
        "print(lines)\n",
        "#Output:['this is first file']"
      ],
      "metadata": {
        "id": "5NFdelNcMGFo"
      },
      "execution_count": null,
      "outputs": []
    },
    {
      "cell_type": "code",
      "source": [
        "#Q10.How can you append data to an existing file in Python?\n",
        "#Ans:\n",
        "with open(\"start.txt\", \"a\") as file:\n",
        "    file.write(\"\\nThis is a new line appended to the file.\")\n"
      ],
      "metadata": {
        "id": "G4Yp_vugZJGO"
      },
      "execution_count": null,
      "outputs": []
    },
    {
      "cell_type": "code",
      "source": [
        "#Q11.Write a Python program that uses a try-except block to handle an error when attempting to access a dictionary key that doesn't exist?\n",
        "#Ans:\n",
        "my_dict = {\"a\": 1, \"b\": 2, \"c\": 3}\n",
        "\n",
        "try:\n",
        "    value = my_dict[\"d\"]\n",
        "except KeyError:\n",
        "    print(\"Error: The key 'd' does not exist in the dictionary.\")\n",
        "\n",
        "#Output: Error: The key 'd' does not exist in the dictionary."
      ],
      "metadata": {
        "id": "Xbb8-iN0ZfFm"
      },
      "execution_count": null,
      "outputs": []
    },
    {
      "cell_type": "code",
      "source": [
        "#Q12.Write a program that demonstrates using multiple except blocks to handle different types of exceptions?\n",
        "#Ans:\n",
        "try:\n",
        "    num = int(input(\"Enter a number: \"))\n",
        "    result = 10 / num\n",
        "    print(result)\n",
        "except ValueError:\n",
        "    print(\"Invalid input! Please enter a valid number.\")\n",
        "except ZeroDivisionError:\n",
        "    print(\"Cannot divide by zero!\")\n",
        "\"\"\"Output:Enter a number: 5\n",
        "2.0\"\"\""
      ],
      "metadata": {
        "id": "hU9teBoca_Re"
      },
      "execution_count": null,
      "outputs": []
    },
    {
      "cell_type": "code",
      "source": [
        "#Q13.How would you check if a file exists before attempting to read it in Python?\n",
        "#Ans:\n",
        "import os\n",
        "\n",
        "filename = \"start.txt\"\n",
        "\n",
        "if os.path.exists(filename):\n",
        "    with open(filename, \"r\") as file:\n",
        "        content = file.read()\n",
        "        print(content)\n",
        "else:\n",
        "    print(f\"Error: '{filename}' does not exist.\")\n",
        "\n",
        "\"\"\"Output:this is first file\n",
        "This is a new line appended to the file.\"\"\"\n"
      ],
      "metadata": {
        "id": "r-PsD6BTbTWl"
      },
      "execution_count": null,
      "outputs": []
    },
    {
      "cell_type": "code",
      "source": [
        "#Q14.Write a program that uses the logging module to log both informational and error messages?\n",
        "#Ans\n",
        "import logging\n",
        "\n",
        "\n",
        "logging.basicConfig(\n",
        "    filename=\"app.log\",\n",
        "    level=logging.DEBUG,\n",
        "    format=\"%(asctime)s - %(levelname)s - %(message)s\"  # Log format\n",
        ")\n",
        "\n",
        "def divide(a, b):\n",
        "\n",
        "    try:\n",
        "        result = a / b\n",
        "        logging.info(\"Successful division: %d / %d = %f\", a, b, result)\n",
        "        return result\n",
        "    except ZeroDivisionError:\n",
        "        logging.error(\"Error: Attempted to divide by zero (a=%d, b=%d)\", a, b)\n",
        "        return \"Cannot divide by zero!\"\n",
        "\n",
        "\n",
        "print(divide(10, 2))\n",
        "print(divide(10, 0))\n",
        "\"\"\"Output:ERROR:root:Error: Attempted to divide by zero (a=10, b=0)\n",
        "5.0\n",
        "Cannot divide by zero!\"\"\""
      ],
      "metadata": {
        "id": "ZduWuIcYb0Ou"
      },
      "execution_count": null,
      "outputs": []
    },
    {
      "cell_type": "code",
      "source": [
        "#Q15.Write a Python program that prints the content of a file and handles the case when the file is empty?\n",
        "#Ans:\n",
        "import os\n",
        "\n",
        "def read_file(filename):\n",
        "\n",
        "    try:\n",
        "        if os.path.exists(filename):\n",
        "            with open(filename, \"r\") as file:\n",
        "                content = file.read().strip()\n",
        "\n",
        "                if content:\n",
        "                    print(\"File Content:\\n\" + content)\n",
        "                else:\n",
        "                    print(\"The file is empty.\")\n",
        "        else:\n",
        "            print(f\"Error: The file '{filename}' does not exist.\")\n",
        "\n",
        "    except Exception as e:\n",
        "        print(f\"An error occurred: {e}\")\n",
        "\n",
        "\n",
        "read_file(\"start.txt\")\n",
        "\"\"\"output:File Content:\n",
        "this is first file\n",
        "This is a new line appended to the file.\"\"\"\n"
      ],
      "metadata": {
        "id": "9Tg_lcSbchCP"
      },
      "execution_count": null,
      "outputs": []
    },
    {
      "cell_type": "code",
      "source": [
        "#Q17.Write a Python program to create and write a list of numbers to a file, one number per line?\n",
        "#Ans:\n",
        "def write_numbers_to_file(filename, numbers):\n",
        "\n",
        "    try:\n",
        "        with open(filename, \"w\") as file:\n",
        "            for number in numbers:\n",
        "                file.write(f\"{number}\\n\")  # Write each number on a new line\n",
        "        print(f\"Numbers successfully written to '{filename}'.\")\n",
        "\n",
        "    except Exception as e:\n",
        "        print(f\"An error occurred: {e}\")\n",
        "\n",
        "\n",
        "numbers_list = list(range(1, 21))  # Numbers from 1 to 20\n",
        "\n",
        "\n",
        "write_numbers_to_file(\"numbers.txt\", numbers_list)\n",
        "#Output: Numbers successfully written to 'numbers.txt'"
      ],
      "metadata": {
        "id": "hxGRYu0XdOHO"
      },
      "execution_count": null,
      "outputs": []
    },
    {
      "cell_type": "code",
      "source": [
        "#Q18.How would you implement a basic logging setup that logs to a file with rotation after 1MB?\n",
        "#Ans:\n",
        "import logging\n",
        "from logging.handlers import RotatingFileHandler\n",
        "\n",
        "\n",
        "log_filename = \"app.log\"\n",
        "log_formatter = \"%(asctime)s - %(levelname)s - %(message)s\"\n",
        "\n",
        "handler = RotatingFileHandler(\n",
        "    log_filename,  # Log file name\n",
        "    maxBytes=1 * 1024 * 1024,  # 1MB limit (1MB = 1024 * 1024 bytes)\n",
        "    backupCount=3  # Keep up to 3 old log files\n",
        ")\n",
        "\n",
        "\n",
        "handler.setFormatter(logging.Formatter(log_formatter))\n",
        "\n",
        "\n",
        "logger = logging.getLogger(\"RotatingLogger\")\n",
        "logger.setLevel(logging.DEBUG)  # Log all levels\n",
        "logger.addHandler(handler)\n",
        "\n",
        "\n",
        "for i in range(10000):\n",
        "    logger.info(f\"This is log entry number {i}\")\n"
      ],
      "metadata": {
        "collapsed": true,
        "id": "cxFYmjSSeO9P"
      },
      "execution_count": null,
      "outputs": []
    },
    {
      "cell_type": "code",
      "source": [
        "#Q19.Write a program that handles both IndexError and KeyError using a try-except block?\n",
        "#Ans:\n",
        "def handle_exceptions():\n",
        "    try:\n",
        "\n",
        "        my_list = [1, 2, 3]\n",
        "        print(f\"Accessing index 5: {my_list[5]}\")  # This will raise an IndexError\n",
        "\n",
        "\n",
        "        my_dict = {\"name\": \"Alice\", \"age\": 25}\n",
        "        print(f\"Accessing missing key: {my_dict['address']}\")  # This will raise a KeyError\n",
        "\n",
        "    except IndexError:\n",
        "        print(\"Error: Index out of range! The list does not have that many elements.\")\n",
        "\n",
        "    except KeyError:\n",
        "        print(\"Error: Key not found in dictionary!\")\n",
        "\n",
        "handle_exceptions()\n",
        "#Output:Error: Index out of range! The list does not have that many elements.\n"
      ],
      "metadata": {
        "id": "8WIfrvEbe1ww"
      },
      "execution_count": null,
      "outputs": []
    },
    {
      "cell_type": "code",
      "source": [
        "#Q20. How would you open a file and read its contents using a context manager in Python?\n",
        "#Ans:\n",
        "def read_file(filename):\n",
        "\n",
        "    try:\n",
        "        with open(filename, \"r\") as file:  # Open file in read mode\n",
        "            content = file.read()  # Read entire file content\n",
        "            print(\"File Content:\\n\" + content if content else \"The file is empty.\")\n",
        "\n",
        "    except FileNotFoundError:\n",
        "        print(f\"Error: The file '{filename}' does not exist.\")\n",
        "    except Exception as e:\n",
        "        print(f\"An error occurred: {e}\")\n",
        "\n",
        "\n",
        "read_file(\"start.txt\")\n",
        "\"\"\"output:File Content:\n",
        "this is first file\n",
        "This is a new line appended to the file.\"\"\"\n"
      ],
      "metadata": {
        "id": "7APy6qAEfMNW"
      },
      "execution_count": null,
      "outputs": []
    },
    {
      "cell_type": "code",
      "source": [
        "#Q21.Write a Python program that reads a file and prints the number of occurrences of a specific word?\n",
        "#Ans:\n",
        "import re\n",
        "\n",
        "def count_word_occurrences(filename, word):\n",
        "\n",
        "\n",
        "    try:\n",
        "        with open(filename, \"r\") as file:\n",
        "            content = file.read()\n",
        "            word_count = len(re.findall(r\"\\b\" + word + r\"\\b\", content, re.IGNORECASE))\n",
        "            return word_count\n",
        "    except FileNotFoundError:\n",
        "        print(f\"Error: The file '{filename}' does not exist.\")\n",
        "        return -1\n",
        "\n",
        "\n",
        "filename = input(\"Enter the filename: \")\n",
        "word = input(\"Enter the word to count: \")\n",
        "\n",
        "\n",
        "occurrences = count_word_occurrences(filename, word)\n",
        "\n",
        "if occurrences >= 0:\n",
        "    print(f\"The word '{word}' appears {occurrences} times in the file.\")"
      ],
      "metadata": {
        "id": "hIfG5HUuflSO"
      },
      "execution_count": null,
      "outputs": []
    },
    {
      "cell_type": "code",
      "source": [
        "#Q22.F How can you check if a file is empty before attempting to read its contents?\n",
        "#Ans:\n",
        "import os\n",
        "\n",
        "def is_file_empty(filename):\n",
        "    \"\"\"Checks if a file is empty using os.path.getsize().\"\"\"\n",
        "    return os.path.exists(filename) and os.path.getsize(filename) == 0\n",
        "\n",
        "# Example usage\n",
        "filename = \"start.txt\"\n",
        "\n",
        "if is_file_empty(filename):\n",
        "    print(f\"The file '{filename}' is empty.\")\n",
        "else:\n",
        "    with open(filename, \"r\") as file:\n",
        "        print(\"File Content:\\n\" + file.read())\n",
        "\n",
        "\"\"\"Output:The file 'start.txt' is empty.\n",
        "File Content:\n",
        "this is first file\n",
        "This is a new line appended to the file.\"\"\"\n"
      ],
      "metadata": {
        "id": "NVAuMCJhuikM"
      },
      "execution_count": null,
      "outputs": []
    },
    {
      "cell_type": "code",
      "source": [
        "#Q23.Write a Python program that writes to a log file when an error occurs during file handling.\n",
        "#Ans:\n",
        "import logging\n",
        "\n",
        "\n",
        "logging.basicConfig(\n",
        "    filename=\"file_errors.log\",  # Log file name\n",
        "    level=logging.ERROR,  # Log only errors and above\n",
        "    format=\"%(asctime)s - %(levelname)s - %(message)s\"\n",
        ")\n",
        "\n",
        "def read_file(filename):\n",
        "\n",
        "    try:\n",
        "        with open(filename, \"r\") as file:\n",
        "            content = file.read()\n",
        "            print(\"File Content:\\n\", content if content else \"The file is empty.\")\n",
        "    except FileNotFoundError:\n",
        "        logging.error(f\"File '{filename}' not found.\")\n",
        "        print(f\"Error: The file '{filename}' does not exist.\")\n",
        "    except PermissionError:\n",
        "        logging.error(f\"Permission denied for file '{filename}'.\")\n",
        "        print(f\"Error: Permission denied for file '{filename}'.\")\n",
        "    except Exception as e:\n",
        "        logging.error(f\"Unexpected error while reading '{filename}': {e}\")\n",
        "        print(f\"An unexpected error occurred: {e}\")\n",
        "\n",
        "\n",
        "read_file(\"nonexistent.txt\")\n",
        "\"\"\"Output:ERROR:root:File 'nonexistent.txt' not found.\n",
        "Error: The file 'nonexistent.txt' does not exist.\"\"\"\n"
      ],
      "metadata": {
        "id": "GYr0paHVu5g0"
      },
      "execution_count": null,
      "outputs": []
    }
  ]
}